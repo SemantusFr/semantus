{
 "cells": [
  {
   "cell_type": "code",
   "execution_count": 12,
   "id": "variable-covering",
   "metadata": {},
   "outputs": [],
   "source": [
    "from gensim.models import KeyedVectors\n",
    "import sqlite3\n",
    "from tqdm import tqdm\n",
    "from stop_words import get_stop_words\n",
    "import re\n",
    "import numpy as np\n",
    "from unidecode import unidecode "
   ]
  },
  {
   "cell_type": "code",
   "execution_count": 13,
   "id": "indirect-rally",
   "metadata": {},
   "outputs": [],
   "source": [
    "WORD_MODEL = \"frWiki_no_phrase_no_postag_1000_skip_cut200.bin\"\n",
    "OUTPUT_DB = \"word2vec2.db\""
   ]
  },
  {
   "cell_type": "code",
   "execution_count": 14,
   "id": "patent-minutes",
   "metadata": {},
   "outputs": [],
   "source": [
    "secret_words = [\"machin\", \n",
    "                \"chose\",\n",
    "               ] "
   ]
  },
  {
   "cell_type": "code",
   "execution_count": 15,
   "id": "peaceful-community",
   "metadata": {},
   "outputs": [],
   "source": [
    "def connect_to_db(db_file, WAL = False):\n",
    "    con = sqlite3.connect(db_file)\n",
    "    if WAL:\n",
    "        con.execute(\"PRAGMA journal_mode=WAL\")\n",
    "    cur = con.cursor()\n",
    "    return cur, con"
   ]
  },
  {
   "cell_type": "code",
   "execution_count": 16,
   "id": "fitting-quarterly",
   "metadata": {},
   "outputs": [],
   "source": [
    "def table_exist(table_name):\n",
    "    query = f\"SELECT name FROM sqlite_master WHERE type='table' AND name='{table_name}'\"\n",
    "    con = sqlite3.connect(OUTPUT_DB)\n",
    "    cur = con.cursor()\n",
    "    cur.execute(query)\n",
    "    return not cur.fetchone() is None"
   ]
  },
  {
   "cell_type": "code",
   "execution_count": 17,
   "id": "postal-appreciation",
   "metadata": {},
   "outputs": [],
   "source": [
    "def get_next_day():\n",
    "    \n",
    "    pattern = 'day([0-9]+)'\n",
    "    reg = re.compile(pattern)\n",
    "    def tables_in_sqlite_db(conn):\n",
    "        cursor = conn.execute(\"SELECT name FROM sqlite_master WHERE type='table' AND name LIKE 'day%';\")\n",
    "        tables = [\n",
    "            v[0] for v in cursor.fetchall()\n",
    "            if v[0] != \"sqlite_sequence\"\n",
    "        ]\n",
    "        cursor.close()\n",
    "        return tables\n",
    "\n",
    "    list_days = [int(s.split('day')[1]) for s in tables_in_sqlite_db(con)]\n",
    "\n",
    "\n",
    "    if not list_days:\n",
    "        new_day = 1\n",
    "    else:\n",
    "        latest_day = np.max(list_days)\n",
    "        new_day = latest_day+1\n",
    "    return new_day"
   ]
  },
  {
   "cell_type": "markdown",
   "id": "cutting-fraud",
   "metadata": {},
   "source": [
    "# Load things\n",
    "\n",
    "## Load model"
   ]
  },
  {
   "cell_type": "code",
   "execution_count": 18,
   "id": "therapeutic-senegal",
   "metadata": {},
   "outputs": [],
   "source": [
    "model = KeyedVectors.load_word2vec_format(\n",
    "    WORD_MODEL,\n",
    "    binary=True, \n",
    "    unicode_errors=\"ignore\"\n",
    ")\n",
    "all_words = model.index_to_key"
   ]
  },
  {
   "cell_type": "markdown",
   "id": "premium-yemen",
   "metadata": {},
   "source": [
    "## Load stop words"
   ]
  },
  {
   "cell_type": "code",
   "execution_count": 8,
   "id": "steady-venezuela",
   "metadata": {},
   "outputs": [],
   "source": [
    "french_stop_words = get_stop_words('french')"
   ]
  },
  {
   "cell_type": "markdown",
   "id": "ordered-detroit",
   "metadata": {},
   "source": [
    "# First add the full list of known words if it does not exists already"
   ]
  },
  {
   "cell_type": "code",
   "execution_count": 21,
   "id": "tropical-package",
   "metadata": {},
   "outputs": [
    {
     "name": "stdout",
     "output_type": "stream",
     "text": [
      "Word list already there, nothing to do.\n"
     ]
    }
   ],
   "source": [
    "if (table_exist(\"all_words_fr\")):\n",
    "    print('List of all words not present, writing it.')\n",
    "    cur, con = connect_to_db(OUTPUT_DB)\n",
    "    cur.execute(\"create table if not exists all_words_fr (word text PRIMARY KEY)\")\n",
    "    con.commit()\n",
    "    \n",
    "    con.execute(\"DELETE FROM all_words_fr\")\n",
    "    with con:\n",
    "        con.executemany(\n",
    "            \"insert into all_words_fr values(?)\",\n",
    "            [[w] for w in all_words],\n",
    "        )\n",
    "    con.close()\n",
    "else:\n",
    "    print('List of all words already there, nothing to do.')"
   ]
  },
  {
   "cell_type": "markdown",
   "id": "deluxe-training",
   "metadata": {},
   "source": [
    "# Find the first day without a word\n",
    "to know where we need to add the words"
   ]
  },
  {
   "cell_type": "code",
   "execution_count": 22,
   "id": "renewable-timing",
   "metadata": {},
   "outputs": [
    {
     "name": "stdout",
     "output_type": "stream",
     "text": [
      "Adding words to secret list...\n"
     ]
    }
   ],
   "source": [
    "print('Adding words to secret list...')\n",
    "cur, con = connect_to_db(OUTPUT_DB)\n",
    "\n",
    "for secret_word in secret_words:\n",
    "    list_of_related_words = model.most_similar(secret_word, topn=1500,)\n",
    "    list_of_related_words = [(secret_word, 1.)] + list_of_related_words\n",
    "    \n",
    "    # remove stop words\n",
    "    list_of_related_words = [(w,s) for (w,s) in list_of_related_words if not (w in french_stop_words)]\n",
    "    \n",
    "    \n",
    "\n",
    "    # Add score\n",
    "    score = list(range(1000,0,-1))\n",
    "    list_of_related_words = [list(l)+[s] for l,s in zip(list_of_related_words, score)]\n",
    "\n",
    "    # Create table\n",
    "    new_day = get_next_day()\n",
    "    cur.execute(f\"create table if not exists day{new_day} (word text PRIMARY KEY, value NUMERIC, score int)\")\n",
    "    con.commit()\n",
    "\n",
    "    # Add data\n",
    "    con.execute(f\"DELETE FROM day{new_day}\")\n",
    "    with con:\n",
    "        con.executemany(\n",
    "            f\"insert into day{new_day} values(?,?,?)\",\n",
    "            list_of_related_words,\n",
    "        )"
   ]
  }
 ],
 "metadata": {
  "kernelspec": {
   "display_name": "pp",
   "language": "python",
   "name": "pp"
  },
  "language_info": {
   "codemirror_mode": {
    "name": "ipython",
    "version": 3
   },
   "file_extension": ".py",
   "mimetype": "text/x-python",
   "name": "python",
   "nbconvert_exporter": "python",
   "pygments_lexer": "ipython3",
   "version": "3.8.5"
  },
  "toc": {
   "base_numbering": 1,
   "nav_menu": {},
   "number_sections": true,
   "sideBar": true,
   "skip_h1_title": false,
   "title_cell": "Table of Contents",
   "title_sidebar": "Contents",
   "toc_cell": false,
   "toc_position": {},
   "toc_section_display": true,
   "toc_window_display": false
  }
 },
 "nbformat": 4,
 "nbformat_minor": 5
}
